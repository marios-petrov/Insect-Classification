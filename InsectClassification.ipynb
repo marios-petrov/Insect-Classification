{
 "cells": [
  {
   "cell_type": "markdown",
   "source": [
    "### Neccessary Imports"
   ],
   "metadata": {
    "collapsed": false
   },
   "execution_count": 1
  },
  {
   "cell_type": "code",
   "execution_count": null,
   "outputs": [],
   "source": [
    "import numpy as np\n",
    "import pandas as pd\n",
    "import pickle\n",
    "import matplotlib.pyplot as plt\n",
    "import seaborn as sns\n",
    "import tensorflow as tf\n",
    "from sklearn.metrics import confusion_matrix\n",
    "from keras.preprocessing.image import ImageDataGenerator\n",
    "from keras.applications import ResNet50\n",
    "from keras.layers import GlobalAveragePooling2D, Dense\n",
    "from keras.models import Model, load_model"
   ],
   "metadata": {
    "collapsed": false
   }
  },
  {
   "cell_type": "markdown",
   "source": [
    "### Constants"
   ],
   "metadata": {
    "collapsed": false
   }
  },
  {
   "cell_type": "code",
   "execution_count": null,
   "outputs": [],
   "source": [
    "path = '../MLFinalProject/InsectDataset'\n",
    "batch_size = 100"
   ],
   "metadata": {
    "collapsed": false
   }
  },
  {
   "cell_type": "markdown",
   "source": [
    "### Image Data Generation"
   ],
   "metadata": {
    "collapsed": false
   }
  },
  {
   "cell_type": "code",
   "execution_count": null,
   "outputs": [],
   "source": [
    "train_datagen = ImageDataGenerator(rescale=1./255, validation_split=0.2,\n",
    "                                   rotation_range=40, horizontal_flip=True,\n",
    "                                   fill_mode='nearest')\n",
    "\n",
    "train_gen = train_datagen.flow_from_directory(path, target_size=(224, 224),\n",
    "                    class_mode='categorical', batch_size=batch_size, subset='training')\n",
    "\n",
    "val_gen = train_datagen.flow_from_directory(path, target_size=(224, 224),\n",
    "                class_mode='categorical', batch_size=batch_size, subset='validation')\n",
    "\n",
    "print(train_gen.class_indices)\n",
    "print(val_gen.class_indices)"
   ],
   "metadata": {
    "collapsed": false
   }
  },
  {
   "cell_type": "markdown",
   "source": [
    "### Model Creation"
   ],
   "metadata": {
    "collapsed": false
   }
  },
  {
   "cell_type": "code",
   "execution_count": null,
   "outputs": [],
   "source": [
    "def create_model(pretrained=True):\n",
    "    if pretrained:\n",
    "        base_model = ResNet50(weights='imagenet', include_top=False, input_shape=(224, 224, 3))\n",
    "    else:\n",
    "        base_model = ResNet50(weights=None, include_top=False, input_shape=(224, 224, 3))\n",
    "\n",
    "    x = base_model.output\n",
    "    x = GlobalAveragePooling2D()(x)\n",
    "    x = Dense(1024, activation='relu')(x)\n",
    "    predictions = Dense(5, activation='softmax')(x)\n",
    "    model = Model(inputs=base_model.input, outputs=predictions)\n",
    "    model.compile(optimizer='adam', loss='categorical_crossentropy', metrics=['accuracy'])\n",
    "    return model\n",
    "\n",
    "model_pretrained = create_model(pretrained=True)\n",
    "model_non_pretrained = create_model(pretrained=False)"
   ],
   "metadata": {
    "collapsed": false
   }
  },
  {
   "cell_type": "markdown",
   "source": [
    "### Model Summaries"
   ],
   "metadata": {
    "collapsed": false
   }
  },
  {
   "cell_type": "code",
   "execution_count": null,
   "outputs": [],
   "source": [
    "model_pretrained.summary()"
   ],
   "metadata": {
    "collapsed": false
   }
  },
  {
   "cell_type": "code",
   "execution_count": null,
   "outputs": [],
   "source": [
    "model_non_pretrained.summary()"
   ],
   "metadata": {
    "collapsed": false
   }
  },
  {
   "cell_type": "markdown",
   "source": [
    "### Pretrained Model Training"
   ],
   "metadata": {
    "collapsed": false
   }
  },
  {
   "cell_type": "code",
   "execution_count": null,
   "outputs": [],
   "source": [
    "steps, val_steps = train_gen.n//batch_size, val_gen.n//batch_size\n",
    "num_epochs = 100\n",
    "\n",
    "history_pretrained = model_pretrained.fit(train_gen, validation_data=val_gen,\n",
    "                                          epochs=num_epochs, steps_per_epoch=steps,\n",
    "                                          validation_steps=val_steps)"
   ],
   "metadata": {
    "collapsed": false
   }
  },
  {
   "cell_type": "markdown",
   "source": [
    "### Non-Pretrained Model Training"
   ],
   "metadata": {
    "collapsed": false
   }
  },
  {
   "cell_type": "code",
   "execution_count": null,
   "outputs": [],
   "source": [
    "history_non_pretrained = model_non_pretrained.fit(train_gen, validation_data=val_gen,\n",
    "                                                  epochs=num_epochs, steps_per_epoch=steps,\n",
    "                                                  validation_steps=val_steps)"
   ],
   "metadata": {
    "collapsed": false
   }
  },
  {
   "cell_type": "markdown",
   "source": [
    "### Saving Models"
   ],
   "metadata": {
    "collapsed": false
   }
  },
  {
   "cell_type": "code",
   "execution_count": null,
   "outputs": [],
   "source": [
    "model_pretrained.save('./model_pretrained.h5')\n",
    "model_non_pretrained.save('./model_non_pretrained.h5')"
   ],
   "metadata": {
    "collapsed": false
   }
  },
  {
   "cell_type": "markdown",
   "source": [
    "### Saving Histories"
   ],
   "metadata": {
    "collapsed": false
   }
  },
  {
   "cell_type": "code",
   "execution_count": null,
   "outputs": [],
   "source": [
    "with open('history_pretrained.pkl', 'wb') as file:\n",
    "    pickle.dump(history_pretrained.history, file)\n",
    "\n",
    "with open('history_non_pretrained.pkl', 'wb') as file:\n",
    "    pickle.dump(history_non_pretrained.history, file)"
   ],
   "metadata": {
    "collapsed": false
   }
  },
  {
   "cell_type": "markdown",
   "source": [
    "### Testing Saving"
   ],
   "metadata": {
    "collapsed": false
   }
  },
  {
   "cell_type": "code",
   "execution_count": null,
   "outputs": [],
   "source": [
    "# Load histories\n",
    "with open('../MLFinalProject/history_pretrained.pkl', 'rb') as file:\n",
    "    pretrained_history = pickle.load(file)\n",
    "\n",
    "with open('../MLFinalProject/history_non_pretrained.pkl', 'rb') as file:\n",
    "    non_pretrained_history = pickle.load(file)\n",
    "\n",
    "# Load models\n",
    "pretrained_model = load_model('../MLFinalProject/model_pretrained.h5')\n",
    "non_pretrained_model = load_model('../MLFinalProject/model_non_pretrained.h5')"
   ],
   "metadata": {
    "collapsed": false
   }
  },
  {
   "cell_type": "markdown",
   "source": [
    "### Plotting Accuracy and Loss"
   ],
   "metadata": {
    "collapsed": false
   }
  },
  {
   "cell_type": "code",
   "execution_count": null,
   "outputs": [],
   "source": [
    "# Function to save loss plot\n",
    "def save_loss_plot(history_dict, filename, is_pretrained):\n",
    "    loss = history_dict['loss']\n",
    "    val_loss = history_dict['val_loss']\n",
    "    epochs = range(len(loss))\n",
    "\n",
    "    plt.figure(figsize=(8, 6))  # Adjust the figure size as needed\n",
    "    plt.plot(epochs, loss, 'r', label='Training loss')\n",
    "    plt.plot(epochs, val_loss, 'b', label='Test loss')\n",
    "    model_type = 'Pretrained' if is_pretrained else 'Non-Pretrained'\n",
    "    plt.title(f'{model_type} Model - Training and Test Loss')\n",
    "    plt.xlabel('Epochs')\n",
    "    plt.ylabel('Loss')\n",
    "    plt.legend()\n",
    "    plt.tight_layout()  # Adjust the layout\n",
    "    plt.savefig(filename, bbox_inches='tight')  # Save the figure with tight bounding box\n",
    "    plt.show()\n",
    "\n",
    "    # Function to save accuracy plot\n",
    "def save_accuracy_plot(history_dict, filename, is_pretrained):\n",
    "    acc = history_dict['accuracy']\n",
    "    val_acc = history_dict['val_accuracy']\n",
    "    epochs = range(len(acc))\n",
    "\n",
    "    plt.figure(figsize=(8, 6))  # Adjust the figure size as needed\n",
    "    plt.plot(epochs, acc, 'r', label='Training accuracy')\n",
    "    plt.plot(epochs, val_acc, 'b', label='Test accuracy')\n",
    "    model_type = 'Pretrained' if is_pretrained else 'Non-Pretrained'\n",
    "    plt.title(f'{model_type} Model - Training and Test Accuracy')\n",
    "    plt.xlabel('Epochs')\n",
    "    plt.ylabel('Accuracy')\n",
    "    plt.legend()\n",
    "    plt.tight_layout()  # Adjust the layout\n",
    "    plt.savefig(filename, bbox_inches='tight')  # Save the figure with tight bounding box\n",
    "    plt.show()\n",
    "\n",
    "\n",
    "save_accuracy_plot(pretrained_history, '../MLFinalProject/pretrained_accuracy.png', True)\n",
    "save_loss_plot(pretrained_history, '../MLFinalProject/pretrained_loss.png', True)\n",
    "\n",
    "save_accuracy_plot(non_pretrained_history, '../MLFinalProject/non_pretrained_accuracy.png', False)\n",
    "save_loss_plot(non_pretrained_history, '../MLFinalProject/non_pretrained_loss.png', False)"
   ],
   "metadata": {
    "collapsed": false
   }
  },
  {
   "cell_type": "markdown",
   "source": [
    "### Confusion matrices"
   ],
   "metadata": {
    "collapsed": false
   }
  },
  {
   "cell_type": "code",
   "execution_count": null,
   "outputs": [],
   "source": [
    "def plot_confusion_matrix(model, generator):\n",
    "    # Get predictions and true labels\n",
    "    predictions = model.predict(generator)\n",
    "    y_pred = np.argmax(predictions, axis=1)\n",
    "    y_true = generator.classes\n",
    "\n",
    "    # Compute confusion matrix\n",
    "    cm = confusion_matrix(y_true, y_pred, labels=range(5))\n",
    "    sns.heatmap(cm, annot=True, fmt='d', cmap='Blues')\n",
    "\n",
    "    plt.title('Confusion Matrix')\n",
    "    plt.ylabel('True Label')\n",
    "    plt.xlabel('Predicted Label')\n",
    "    plt.show()\n",
    "\n",
    "print(\"Confusion Matrix for Pretrained Model\")\n",
    "plot_confusion_matrix(model_pretrained, val_gen)\n",
    "\n",
    "print(\"\\nConfusion Matrix for Non-Pretrained Model\")\n",
    "plot_confusion_matrix(model_non_pretrained, val_gen)"
   ],
   "metadata": {
    "collapsed": false
   }
  }
 ],
 "metadata": {
  "kernelspec": {
   "display_name": "Python 3",
   "language": "python",
   "name": "python3"
  },
  "language_info": {
   "codemirror_mode": {
    "name": "ipython",
    "version": 2
   },
   "file_extension": ".py",
   "mimetype": "text/x-python",
   "name": "python",
   "nbconvert_exporter": "python",
   "pygments_lexer": "ipython2",
   "version": "2.7.6"
  }
 },
 "nbformat": 4,
 "nbformat_minor": 0
}
